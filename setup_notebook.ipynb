{
 "cells": [
  {
   "cell_type": "markdown",
   "metadata": {},
   "source": [
    "# DDP_KBIT 노트북 인터페이스\n",
    "\n",
    "이 노트북은 DDP_KBIT 프로젝트의 모듈들을 임포트하고 사용할 수 있도록 설정합니다."
   ]
  },
  {
   "cell_type": "code",
   "execution_count": null,
   "metadata": {},
   "outputs": [],
   "source": [
    "import sys\n",
    "import os\n",
    "\n",
    "# 현재 노트북의 경로를 시스템 패스에 추가하여 DDP_KBIT 모듈들을 임포트할 수 있게 설정\n",
    "current_dir = os.getcwd()\n",
    "if current_dir not in sys.path:\n",
    "    sys.path.append(current_dir)\n",
    "\n",
    "print(f\"Current working directory: {current_dir}\")\n",
    "print(f\"Python path updated: {current_dir in sys.path}\")\n",
    "print(f\"Available files: {os.listdir(current_dir)}\")"
   ]
  },
  {
   "cell_type": "code",
   "execution_count": null,
   "metadata": {},
   "outputs": [],
   "source": [
    "# DDP_KBIT 모듈들 임포트 테스트\n",
    "try:\n",
    "    # 기본 모듈들 임포트\n",
    "    import config\n",
    "    import models\n",
    "    import training\n",
    "    import utils\n",
    "    print(\"✅ 기본 모듈들이 성공적으로 임포트되었습니다!\")\n",
    "    \n",
    "    # 세부 모듈들 임포트\n",
    "    from config import get_config\n",
    "    from models import DistributedGNN\n",
    "    from training import train_model\n",
    "    from utils import setup_logging\n",
    "    print(\"✅ 세부 모듈들이 성공적으로 임포트되었습니다!\")\n",
    "    \n",
    "except ImportError as e:\n",
    "    print(f\"❌ 모듈 임포트 실패: {e}\")\n",
    "    print(\"사용 가능한 모듈들을 확인합니다...\")"
   ]
  },
  {
   "cell_type": "code",
   "execution_count": null,
   "metadata": {},
   "outputs": [],
   "source": [
    "# 설정 로드 및 확인\n",
    "try:\n",
    "    config_data = get_config()\n",
    "    print(\"Configuration loaded successfully:\")\n",
    "    print(config_data)\n",
    "except Exception as e:\n",
    "    print(f\"Configuration loading failed: {e}\")"
   ]
  },
  {
   "cell_type": "code",
   "execution_count": null,
   "metadata": {},
   "outputs": [],
   "source": [
    "# 실험을 위한 기본 설정\n",
    "import torch\n",
    "import torch.distributed as dist\n",
    "import numpy as np\n",
    "import matplotlib.pyplot as plt\n",
    "import seaborn as sns\n",
    "\n",
    "print(\"PyTorch version:\", torch.__version__)\n",
    "print(\"CUDA available:\", torch.cuda.is_available())\n",
    "if torch.cuda.is_available():\n",
    "    print(\"CUDA device count:\", torch.cuda.device_count())\n",
    "    print(\"Current CUDA device:\", torch.cuda.current_device())"
   ]
  }
 ],
 "metadata": {
  "kernelspec": {
   "display_name": "Python 3",
   "language": "python",
   "name": "python3"
  },
  "language_info": {
   "codemirror_mode": {
    "name": "ipython",
    "version": 3
   },
   "file_extension": ".py",
   "mimetype": "text/x-python",
   "name": "python",
   "nbconvert_exporter": "python",
   "pygments_lexer": "ipython3",
   "version": "3.8.0"
  }
 },
 "nbformat": 4,
 "nbformat_minor": 4
}