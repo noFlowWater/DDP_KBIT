{
 "cells": [
  {
   "cell_type": "markdown",
   "metadata": {},
   "source": [
    "# DDP_KBIT Jupyter Notebook Interface\n",
    "\n",
    "This notebook provides a simple interface to run the DDP_KBIT distributed deep learning system without using command line arguments. It wraps the existing `main.py` functionality for easy experimentation."
   ]
  },
  {
   "cell_type": "markdown",
   "metadata": {},
   "source": [
    "## Setup and Imports"
   ]
  },
  {
   "cell_type": "markdown",
   "metadata": {},
   "source": [
    "## 세션 초기화 (매번 실행 필요)\n",
    "\n",
    "아래 셀을 매 세션마다 가장 먼저 실행하여 로컬 모듈에 연결하세요."
   ]
  },
  {
   "cell_type": "code",
   "execution_count": 1,
   "metadata": {},
   "outputs": [
    {
     "name": "stdout",
     "output_type": "stream",
     "text": [
      "✓ Found DDP_KBIT at: /mnt/data/DDP_KBIT\n"
     ]
    },
    {
     "name": "stderr",
     "output_type": "stream",
     "text": [
      "/home/jovyan/.local/lib/python3.9/site-packages/ignite/handlers/checkpoint.py:16: DeprecationWarning: `TorchScript` support for functional optimizers is deprecated and will be removed in a future PyTorch release. Consider using the `torch.compile` optimizer instead.\n",
      "  from torch.distributed.optim import ZeroRedundancyOptimizer\n"
     ]
    },
    {
     "name": "stdout",
     "output_type": "stream",
     "text": [
      "Warning: config.json not found. Using default values.\n",
      "Error importing DDP_KBIT modules: cannot import name 'BenchmarkSuite' from 'experiments.benchmarks' (/mnt/data/DDP_KBIT/experiments/benchmarks.py)\n",
      "Please ensure you're running from the correct directory and all dependencies are installed.\n",
      "✓ Successfully imported DDP_KBIT modules directly\n"
     ]
    },
    {
     "name": "stderr",
     "output_type": "stream",
     "text": [
      "/mnt/data/DDP_KBIT/main.py:54: UserWarning: Failed to import some DDP_KBIT modules: cannot import name 'BenchmarkSuite' from 'experiments.benchmarks' (/mnt/data/DDP_KBIT/experiments/benchmarks.py)\n",
      "  warnings.warn(f\"Failed to import some DDP_KBIT modules: {e}\")\n"
     ]
    }
   ],
   "source": [
    "import os\n",
    "import sys\n",
    "import json\n",
    "import logging\n",
    "from typing import Dict, Any, Optional\n",
    "\n",
    "# DDP_KBIT 모듈 경로 설정 - 현재 디렉토리 또는 상위 디렉토리에서 찾기\n",
    "current_dir = os.getcwd()\n",
    "possible_paths = [\n",
    "    current_dir,  # 현재 디렉토리\n",
    "    os.path.dirname(current_dir),  # 상위 디렉토리\n",
    "    r\"/mnt/data/DDP_KBIT\",  # Jupyter 환경\n",
    "    r\"D:\\Nextcloud3\\kbit\\DDP_KBIT\",  # Windows 로컬 환경\n",
    "]\n",
    "\n",
    "ddp_kbit_path = None\n",
    "for path in possible_paths:\n",
    "    if os.path.exists(os.path.join(path, \"main.py\")):\n",
    "        ddp_kbit_path = path\n",
    "        break\n",
    "\n",
    "if ddp_kbit_path:\n",
    "    if ddp_kbit_path not in sys.path:\n",
    "        sys.path.insert(0, ddp_kbit_path)\n",
    "    print(f\"✓ Found DDP_KBIT at: {ddp_kbit_path}\")\n",
    "else:\n",
    "    print(\"❌ Could not find DDP_KBIT directory\")\n",
    "\n",
    "# Import the main functions from main.py\n",
    "try:\n",
    "    # 패키지로 임포트 시도\n",
    "    try:\n",
    "        import DDP_KBIT\n",
    "        from DDP_KBIT.main import (\n",
    "            setup_logging, \n",
    "            load_external_config,\n",
    "            run_training_mode,\n",
    "            run_experiment_mode, \n",
    "            create_sample_config\n",
    "        )\n",
    "        print(\"✓ Successfully imported DDP_KBIT as package\")\n",
    "    except ImportError:\n",
    "        # 직접 임포트 시도\n",
    "        from main import (\n",
    "            setup_logging, \n",
    "            load_external_config,\n",
    "            run_training_mode,\n",
    "            run_experiment_mode, \n",
    "            create_sample_config\n",
    "        )\n",
    "        print(\"✓ Successfully imported DDP_KBIT modules directly\")\n",
    "        \n",
    "except ImportError as e:\n",
    "    print(f\"❌ Error importing DDP_KBIT modules: {e}\")\n",
    "    print(f\"Current working directory: {os.getcwd()}\")\n",
    "    print(\"Available Python files:\")\n",
    "    try:\n",
    "        import glob\n",
    "        py_files = glob.glob(\"*.py\")\n",
    "        if py_files:\n",
    "            print(f\"  Python files found: {py_files}\")\n",
    "        else:\n",
    "            print(\"  No Python files found in current directory\")\n",
    "    except:\n",
    "        pass\n",
    "    \n",
    "    # 대안: 절대 경로로 main.py 실행\n",
    "    if ddp_kbit_path and os.path.exists(os.path.join(ddp_kbit_path, \"main.py\")):\n",
    "        print(\"\\nTrying to execute main.py directly...\")\n",
    "        try:\n",
    "            exec(open(os.path.join(ddp_kbit_path, \"main.py\")).read(), globals())\n",
    "            print(\"✓ Successfully loaded main.py using exec method\")\n",
    "        except Exception as exec_error:\n",
    "            print(f\"❌ Exec method failed: {exec_error}\")\n",
    "    else:\n",
    "        print(\"❌ main.py not found in any expected location\")\n",
    "        print(\"Please ensure you're running from the correct directory and all dependencies are installed.\")"
   ]
  },
  {
   "cell_type": "markdown",
   "metadata": {},
   "source": [
    "## Configuration Setup"
   ]
  },
  {
   "cell_type": "code",
   "execution_count": 2,
   "metadata": {},
   "outputs": [
    {
     "name": "stdout",
     "output_type": "stream",
     "text": [
      "✓ Configuration setup complete\n",
      "Config path: sample_config.json\n",
      "Distributed: False\n",
      "Iterations: 3\n"
     ]
    }
   ],
   "source": [
    "# Setup logging\n",
    "setup_logging(\"INFO\")\n",
    "\n",
    "# Create a mock args object to simulate command line arguments\n",
    "class NotebookArgs:\n",
    "    def __init__(self):\n",
    "        self.config_path = \"sample_config.json\"\n",
    "        self.distributed = False\n",
    "        self.experiment_type = \"single\"\n",
    "        self.iterations = 3\n",
    "        self.log_level = \"INFO\"\n",
    "\n",
    "# Initialize default arguments\n",
    "args = NotebookArgs()\n",
    "\n",
    "print(\"✓ Configuration setup complete\")\n",
    "print(f\"Config path: {args.config_path}\")\n",
    "print(f\"Distributed: {args.distributed}\")\n",
    "print(f\"Iterations: {args.iterations}\")"
   ]
  },
  {
   "cell_type": "markdown",
   "metadata": {},
   "source": [
    "## Create Sample Configuration (Run this first)"
   ]
  },
  {
   "cell_type": "code",
   "execution_count": 3,
   "metadata": {},
   "outputs": [
    {
     "name": "stdout",
     "output_type": "stream",
     "text": [
      "❌ Create sample config not available - missing dependencies\n",
      "✓ Sample configuration created!\n"
     ]
    }
   ],
   "source": [
    "# Create a sample configuration file\n",
    "create_sample_config()\n",
    "print(\"✓ Sample configuration created!\")\n",
    "\n",
    "# Display the configuration\n",
    "if os.path.exists(\"sample_config.json\"):\n",
    "    with open(\"sample_config.json\", 'r') as f:\n",
    "        config = json.load(f)\n",
    "    print(\"\\nCurrent configuration:\")\n",
    "    print(json.dumps(config, indent=2))"
   ]
  },
  {
   "cell_type": "markdown",
   "metadata": {},
   "source": [
    "## Training Mode\n",
    "\n",
    "Run single node or distributed training."
   ]
  },
  {
   "cell_type": "code",
   "execution_count": 4,
   "metadata": {},
   "outputs": [
    {
     "name": "stdout",
     "output_type": "stream",
     "text": [
      "🚀 Starting single node training...\n",
      "❌ Training mode not available - missing dependencies\n",
      "✅ Training completed successfully!\n"
     ]
    }
   ],
   "source": [
    "# Single node training\n",
    "print(\"🚀 Starting single node training...\")\n",
    "args.distributed = False\n",
    "\n",
    "try:\n",
    "    run_training_mode(args)\n",
    "    print(\"✅ Training completed successfully!\")\n",
    "except Exception as e:\n",
    "    print(f\"❌ Training failed: {e}\")"
   ]
  },
  {
   "cell_type": "code",
   "execution_count": 5,
   "metadata": {},
   "outputs": [],
   "source": [
    "# Distributed training (uncomment to run)\n",
    "# print(\"🚀 Starting distributed training...\")\n",
    "# args.distributed = True\n",
    "\n",
    "# try:\n",
    "#     run_training_mode(args)\n",
    "#     print(\"✅ Distributed training completed successfully!\")\n",
    "# except Exception as e:\n",
    "#     print(f\"❌ Distributed training failed: {e}\")"
   ]
  },
  {
   "cell_type": "markdown",
   "metadata": {},
   "source": [
    "## Experiment Mode\n",
    "\n",
    "Run single experiments or multiple iterations with statistical analysis."
   ]
  },
  {
   "cell_type": "code",
   "execution_count": 6,
   "metadata": {},
   "outputs": [
    {
     "name": "stdout",
     "output_type": "stream",
     "text": [
      "🧪 Running single experiment...\n",
      "❌ Experiment mode not available - missing dependencies\n",
      "✅ Single experiment completed successfully!\n"
     ]
    }
   ],
   "source": [
    "# Single experiment\n",
    "print(\"🧪 Running single experiment...\")\n",
    "args.experiment_type = \"single\"\n",
    "\n",
    "try:\n",
    "    run_experiment_mode(args)\n",
    "    print(\"✅ Single experiment completed successfully!\")\n",
    "except Exception as e:\n",
    "    print(f\"❌ Single experiment failed: {e}\")"
   ]
  },
  {
   "cell_type": "code",
   "execution_count": 7,
   "metadata": {},
   "outputs": [
    {
     "name": "stdout",
     "output_type": "stream",
     "text": [
      "🧪 Running multiple experiments...\n",
      "❌ Experiment mode not available - missing dependencies\n",
      "✅ 5 experiments completed successfully!\n"
     ]
    }
   ],
   "source": [
    "# Multiple experiments with statistical analysis\n",
    "print(\"🧪 Running multiple experiments...\")\n",
    "args.experiment_type = \"multiple\"\n",
    "args.iterations = 5  # You can change this number\n",
    "\n",
    "try:\n",
    "    run_experiment_mode(args)\n",
    "    print(f\"✅ {args.iterations} experiments completed successfully!\")\n",
    "except Exception as e:\n",
    "    print(f\"❌ Multiple experiments failed: {e}\")"
   ]
  },
  {
   "cell_type": "markdown",
   "metadata": {},
   "source": [
    "## Custom Configuration\n",
    "\n",
    "Modify configuration parameters for your specific needs."
   ]
  },
  {
   "cell_type": "code",
   "execution_count": 8,
   "metadata": {},
   "outputs": [
    {
     "name": "stdout",
     "output_type": "stream",
     "text": [
      "✓ Custom configuration saved to: custom_config.json\n",
      "\n",
      "Custom configuration:\n",
      "{\n",
      "  \"spark_config\": {\n",
      "    \"master\": \"local[*]\",\n",
      "    \"app_name\": \"DDP_KBIT_Custom\",\n",
      "    \"executor_instances\": 4,\n",
      "    \"executor_cores\": 2,\n",
      "    \"executor_memory\": \"8g\"\n",
      "  },\n",
      "  \"training_config\": {\n",
      "    \"epochs\": 10,\n",
      "    \"batch_size\": 128,\n",
      "    \"learning_rate\": 0.0001\n",
      "  },\n",
      "  \"data_config\": {\n",
      "    \"kafka_servers\": [\n",
      "      \"localhost:9092\"\n",
      "    ],\n",
      "    \"topic\": \"custom_topic\",\n",
      "    \"batch_size\": 64\n",
      "  }\n",
      "}\n"
     ]
    }
   ],
   "source": [
    "# Customize configuration\n",
    "custom_config = {\n",
    "    \"spark_config\": {\n",
    "        \"master\": \"local[*]\",\n",
    "        \"app_name\": \"DDP_KBIT_Custom\",\n",
    "        \"executor_instances\": 4,\n",
    "        \"executor_cores\": 2,\n",
    "        \"executor_memory\": \"8g\"\n",
    "    },\n",
    "    \"training_config\": {\n",
    "        \"epochs\": 10,\n",
    "        \"batch_size\": 128,\n",
    "        \"learning_rate\": 0.0001\n",
    "    },\n",
    "    \"data_config\": {\n",
    "        \"kafka_servers\": [\"localhost:9092\"],\n",
    "        \"topic\": \"custom_topic\",\n",
    "        \"batch_size\": 64\n",
    "    }\n",
    "}\n",
    "\n",
    "# Save custom configuration\n",
    "custom_config_path = \"custom_config.json\"\n",
    "with open(custom_config_path, \"w\") as f:\n",
    "    json.dump(custom_config, f, indent=2)\n",
    "\n",
    "# Update args to use custom config\n",
    "args.config_path = custom_config_path\n",
    "\n",
    "print(f\"✓ Custom configuration saved to: {custom_config_path}\")\n",
    "print(\"\\nCustom configuration:\")\n",
    "print(json.dumps(custom_config, indent=2))"
   ]
  },
  {
   "cell_type": "markdown",
   "metadata": {},
   "source": [
    "## Utility Functions\n",
    "\n",
    "Helper functions for notebook usage."
   ]
  },
  {
   "cell_type": "code",
   "execution_count": 9,
   "metadata": {},
   "outputs": [
    {
     "name": "stdout",
     "output_type": "stream",
     "text": [
      "✓ Utility functions loaded!\n",
      "\n",
      "Use these functions for quick execution:\n",
      "- quick_train(distributed=False)\n",
      "- quick_experiment(experiment_type='multiple', iterations=5)\n"
     ]
    }
   ],
   "source": [
    "def quick_train(distributed=False, config_path=\"sample_config.json\"):\n",
    "    \"\"\"Quick training function for easy execution.\"\"\"\n",
    "    args.distributed = distributed\n",
    "    args.config_path = config_path\n",
    "    \n",
    "    print(f\"🚀 Quick training - Distributed: {distributed}\")\n",
    "    try:\n",
    "        run_training_mode(args)\n",
    "        print(\"✅ Training completed!\")\n",
    "    except Exception as e:\n",
    "        print(f\"❌ Training failed: {e}\")\n",
    "\n",
    "def quick_experiment(experiment_type=\"single\", iterations=3):\n",
    "    \"\"\"Quick experiment function for easy execution.\"\"\"\n",
    "    args.experiment_type = experiment_type\n",
    "    args.iterations = iterations\n",
    "    \n",
    "    print(f\"🧪 Quick experiment - Type: {experiment_type}, Iterations: {iterations}\")\n",
    "    try:\n",
    "        run_experiment_mode(args)\n",
    "        print(\"✅ Experiment completed!\")\n",
    "    except Exception as e:\n",
    "        print(f\"❌ Experiment failed: {e}\")\n",
    "\n",
    "print(\"✓ Utility functions loaded!\")\n",
    "print(\"\\nUse these functions for quick execution:\")\n",
    "print(\"- quick_train(distributed=False)\")\n",
    "print(\"- quick_experiment(experiment_type='multiple', iterations=5)\")"
   ]
  },
  {
   "cell_type": "markdown",
   "metadata": {},
   "source": [
    "## Quick Execution Examples\n",
    "\n",
    "Use the utility functions for quick execution."
   ]
  },
  {
   "cell_type": "code",
   "execution_count": 10,
   "metadata": {},
   "outputs": [
    {
     "name": "stdout",
     "output_type": "stream",
     "text": [
      "💡 Uncomment the lines above to run quick examples!\n"
     ]
    }
   ],
   "source": [
    "# Example: Quick single training\n",
    "# quick_train()\n",
    "\n",
    "# Example: Quick multiple experiments\n",
    "# quick_experiment(experiment_type=\"multiple\", iterations=3)\n",
    "\n",
    "print(\"💡 Uncomment the lines above to run quick examples!\")"
   ]
  },
  {
   "cell_type": "code",
   "execution_count": 11,
   "id": "zl156b5fcv",
   "metadata": {},
   "outputs": [
    {
     "name": "stdout",
     "output_type": "stream",
     "text": [
      "Current working directory: /home/jovyan\n",
      "Files in current directory:\n",
      "  .bash_logout\n",
      "  .profile\n",
      "  .bashrc\n",
      "  custom_config.json\n",
      "  .ipython\n",
      "  .local\n",
      "  .npm\n",
      "  .jupyter\n",
      "  .cache\n",
      "  .conda\n",
      "  .config\n",
      "  .wget-hsts\n",
      "  work\n"
     ]
    }
   ],
   "source": [
    "import os\n",
    "print(\"Current working directory:\", os.getcwd())\n",
    "print(\"Files in current directory:\")\n",
    "for f in os.listdir('.'):\n",
    "    print(f\"  {f}\")"
   ]
  }
 ],
 "metadata": {
  "kernelspec": {
   "display_name": "Python 3 (ipykernel)",
   "language": "python",
   "name": "python3"
  },
  "language_info": {
   "codemirror_mode": {
    "name": "ipython",
    "version": 3
   },
   "file_extension": ".py",
   "mimetype": "text/x-python",
   "name": "python",
   "nbconvert_exporter": "python",
   "pygments_lexer": "ipython3",
   "version": "3.9.18"
  }
 },
 "nbformat": 4,
 "nbformat_minor": 4
}
